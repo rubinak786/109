{
  "nbformat": 4,
  "nbformat_minor": 0,
  "metadata": {
    "colab": {
      "name": "Untitled28.ipynb",
      "provenance": [],
      "authorship_tag": "ABX9TyNwtLXF7gxZKrOdeKS1hrFT",
      "include_colab_link": true
    },
    "kernelspec": {
      "name": "python3",
      "display_name": "Python 3"
    },
    "language_info": {
      "name": "python"
    }
  },
  "cells": [
    {
      "cell_type": "markdown",
      "metadata": {
        "id": "view-in-github",
        "colab_type": "text"
      },
      "source": [
        "<a href=\"https://colab.research.google.com/github/rubinak786/109/blob/main/Untitled28.ipynb\" target=\"_parent\"><img src=\"https://colab.research.google.com/assets/colab-badge.svg\" alt=\"Open In Colab\"/></a>"
      ]
    },
    {
      "cell_type": "code",
      "execution_count": 1,
      "metadata": {
        "colab": {
          "base_uri": "https://localhost:8080/"
        },
        "id": "TBA3-CsJp7oh",
        "outputId": "a6f3dade-0e77-48c4-bc09-8e5194ff6e6d"
      },
      "outputs": [
        {
          "output_type": "stream",
          "name": "stdout",
          "text": [
            "  pregnant glucose  bp skin insulin   bmi pedigree age label\n",
            "1        6     148  72   35       0  33.6    0.627  50     1\n",
            "2        1      85  66   29       0  26.6    0.351  31     0\n",
            "3        8     183  64    0       0  23.3    0.672  32     1\n",
            "4        1      89  66   23      94  28.1    0.167  21     0\n",
            "5        0     137  40   35     168  43.1    2.288  33     1\n"
          ]
        }
      ],
      "source": [
        "import pandas as pd\n",
        "col_names = ['pregnant', 'glucose', 'bp', 'skin', 'insulin', 'bmi', 'pedigree', 'age', 'label']\n",
        "df=pd.read_csv(\"https://raw.githubusercontent.com/whitehatjr/datasets/master/C119/diabetes.csv\",names=col_names).iloc[1:]\n",
        "print(df.head())"
      ]
    },
    {
      "cell_type": "code",
      "source": [
        "features=['pregnant', 'glucose', 'bp', 'skin', 'insulin', 'bmi', 'pedigree', 'age']\n",
        "X=df[features]\n",
        "y=df.label"
      ],
      "metadata": {
        "id": "PAX0lSJ-rD3b"
      },
      "execution_count": 3,
      "outputs": []
    },
    {
      "cell_type": "code",
      "source": [
        "from sklearn.tree import DecisionTreeClassifier\n",
        "from sklearn.model_selection import train_test_split\n",
        "from sklearn.metrics import accuracy_score\n",
        "X_train,X_test,y_train,y_test=train_test_split(X,y,test_size=0.3,random_state=1)\n",
        "clf= DecisionTreeClassifier()\n",
        "clf=clf.fit(X_train,y_train)\n",
        "y_pred=clf.predict(X_test)\n",
        "accuracy=accuracy_score(y_test,y_pred)\n",
        "print(accuracy)\n"
      ],
      "metadata": {
        "colab": {
          "base_uri": "https://localhost:8080/"
        },
        "id": "pJUf1tdjrreJ",
        "outputId": "d991ad67-8d2a-430b-f9f4-9cdc551bd835"
      },
      "execution_count": 9,
      "outputs": [
        {
          "output_type": "stream",
          "name": "stdout",
          "text": [
            "0.6883116883116883\n"
          ]
        }
      ]
    }
  ]
}