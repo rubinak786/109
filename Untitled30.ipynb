{
  "nbformat": 4,
  "nbformat_minor": 0,
  "metadata": {
    "colab": {
      "name": "Untitled30.ipynb",
      "provenance": [],
      "authorship_tag": "ABX9TyMetoUYIUwoTjXnI710VU6q",
      "include_colab_link": true
    },
    "kernelspec": {
      "name": "python3",
      "display_name": "Python 3"
    },
    "language_info": {
      "name": "python"
    }
  },
  "cells": [
    {
      "cell_type": "markdown",
      "metadata": {
        "id": "view-in-github",
        "colab_type": "text"
      },
      "source": [
        "<a href=\"https://colab.research.google.com/github/rubinak786/109/blob/main/Untitled30.ipynb\" target=\"_parent\"><img src=\"https://colab.research.google.com/assets/colab-badge.svg\" alt=\"Open In Colab\"/></a>"
      ]
    },
    {
      "cell_type": "code",
      "execution_count": 5,
      "metadata": {
        "colab": {
          "base_uri": "https://localhost:8080/"
        },
        "id": "W94V7z73tYWE",
        "outputId": "c1b27729-7289-43b0-e97c-144f890a4cb8"
      },
      "outputs": [
        {
          "output_type": "stream",
          "name": "stdout",
          "text": [
            "   glucose  bloodpressure  diabetes\n",
            "0       40             85         0\n",
            "1       40             92         0\n",
            "2       45             63         1\n",
            "3       45             80         0\n",
            "4       40             73         1\n"
          ]
        }
      ],
      "source": [
        "import pandas as pd\n",
        "df = pd.read_csv(\"https://raw.githubusercontent.com/whitehatjr/datasets/master/C120/diabetes.csv\")\n",
        "print(df.head())"
      ]
    },
    {
      "cell_type": "code",
      "source": [
        "from sklearn.model_selection import train_test_split\n",
        "from sklearn.naive_bayes import GaussianNB\n",
        "from sklearn.metrics import accuracy_score\n",
        "from sklearn.preprocessing import StandardScaler\n",
        "\n",
        "X= df[[\"glucose\",\"bloodpressure\"]]\n",
        "y=df[\"diabetes\"]\n",
        "\n",
        "x_train1,x_test1,y_train1,y_test1= train_test_split(X,y,test_size=0.25,random_state=42)\n",
        "\n",
        "sc= StandardScaler()\n",
        "\n",
        "x_train1= sc.fit_transform(x_train1)\n",
        "x_test1= sc.fit_transform(x_test1)\n",
        "\n",
        "model1= GaussianNB()\n",
        "model1.fit(x_train1,y_train1)\n",
        "\n",
        "y_pred1= model1.predict(x_test1)\n",
        "\n",
        "accuracy= accuracy_score(y_test1,y_pred1)\n",
        "\n",
        "print(accuracy)\n",
        "\n",
        "\n",
        "\n",
        "\n"
      ],
      "metadata": {
        "colab": {
          "base_uri": "https://localhost:8080/"
        },
        "id": "7i6403YNt1lk",
        "outputId": "4cf07f85-d972-46d6-b18f-32999833844c"
      },
      "execution_count": 6,
      "outputs": [
        {
          "output_type": "stream",
          "name": "stdout",
          "text": [
            "0.9437751004016064\n"
          ]
        }
      ]
    },
    {
      "cell_type": "code",
      "source": [
        ""
      ],
      "metadata": {
        "id": "LsBsv-VJuYOL"
      },
      "execution_count": 6,
      "outputs": []
    }
  ]
}