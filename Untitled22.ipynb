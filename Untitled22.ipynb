{
  "nbformat": 4,
  "nbformat_minor": 0,
  "metadata": {
    "colab": {
      "name": "Untitled22.ipynb",
      "provenance": [],
      "authorship_tag": "ABX9TyNfuwCXvjyCL89wowDSz5Sj",
      "include_colab_link": true
    },
    "kernelspec": {
      "name": "python3",
      "display_name": "Python 3"
    },
    "language_info": {
      "name": "python"
    }
  },
  "cells": [
    {
      "cell_type": "markdown",
      "metadata": {
        "id": "view-in-github",
        "colab_type": "text"
      },
      "source": [
        "<a href=\"https://colab.research.google.com/github/rubinak786/109/blob/main/Untitled22.ipynb\" target=\"_parent\"><img src=\"https://colab.research.google.com/assets/colab-badge.svg\" alt=\"Open In Colab\"/></a>"
      ]
    },
    {
      "cell_type": "code",
      "execution_count": 12,
      "metadata": {
        "id": "qZEE8Kjpq3yN"
      },
      "outputs": [],
      "source": [
        "from sklearn.metrics import confusion_matrix\n",
        "import seaborn as sns\n",
        "import matplotlib.pyplot as plt  "
      ]
    },
    {
      "cell_type": "code",
      "source": [
        "import pandas as pd\n",
        "df= pd.read_csv(\"https://raw.githubusercontent.com/whitehatjr/datasets/master/c117/heart.csv\")\n",
        "print(df)"
      ],
      "metadata": {
        "colab": {
          "base_uri": "https://localhost:8080/"
        },
        "id": "AQq_pNLjrCxz",
        "outputId": "b2b15257-1550-4afe-b913-7d11c9313b21"
      },
      "execution_count": 1,
      "outputs": [
        {
          "output_type": "stream",
          "name": "stdout",
          "text": [
            "     age  sex  cp  trestbps  chol  fbs  restecg  thalach  exang  oldpeak  \\\n",
            "0     63    1   3       145   233    1        0      150      0      2.3   \n",
            "1     37    1   2       130   250    0        1      187      0      3.5   \n",
            "2     41    0   1       130   204    0        0      172      0      1.4   \n",
            "3     56    1   1       120   236    0        1      178      0      0.8   \n",
            "4     57    0   0       120   354    0        1      163      1      0.6   \n",
            "..   ...  ...  ..       ...   ...  ...      ...      ...    ...      ...   \n",
            "298   57    0   0       140   241    0        1      123      1      0.2   \n",
            "299   45    1   3       110   264    0        1      132      0      1.2   \n",
            "300   68    1   0       144   193    1        1      141      0      3.4   \n",
            "301   57    1   0       130   131    0        1      115      1      1.2   \n",
            "302   57    0   1       130   236    0        0      174      0      0.0   \n",
            "\n",
            "     slope  ca  thal  target  \n",
            "0        0   0     1       1  \n",
            "1        0   0     2       1  \n",
            "2        2   0     2       1  \n",
            "3        2   0     2       1  \n",
            "4        2   0     2       1  \n",
            "..     ...  ..   ...     ...  \n",
            "298      1   0     3       0  \n",
            "299      1   0     3       0  \n",
            "300      1   2     3       0  \n",
            "301      1   1     3       0  \n",
            "302      1   1     2       0  \n",
            "\n",
            "[303 rows x 14 columns]\n"
          ]
        }
      ]
    },
    {
      "cell_type": "code",
      "source": [
        "from sklearn.model_selection import train_test_split\n",
        "age=df[\"age\"]\n",
        "heart_attack=df[\"target\"]\n",
        "age_train,age_test,heart_train,heart_test= train_test_split(age,heart_attack,test_size=0.25,random_state=0)\n"
      ],
      "metadata": {
        "id": "W9nt2V5vrYXb"
      },
      "execution_count": 3,
      "outputs": []
    },
    {
      "cell_type": "code",
      "source": [
        "from sklearn.linear_model import LogisticRegression\n",
        "import numpy as np\n",
        "X=np.reshape(age_train.ravel(),(len(age_train),1))\n",
        "Y= np.reshape(heart_train.ravel(),(len(heart_train),1))\n",
        "classifier= LogisticRegression(random_state=0)\n",
        "classifier.fit(X,Y)\n",
        "\n"
      ],
      "metadata": {
        "id": "B-tWK5kjsIzD"
      },
      "execution_count": null,
      "outputs": []
    },
    {
      "cell_type": "code",
      "source": [
        "X_test= np.reshape(age_test.ravel(),(len(age_test),1))\n",
        "Y_test= np.reshape(heart_test.ravel(),(len(heart_test),1))\n",
        "prediction=classifier.predict(X_test)\n",
        "print(prediction)"
      ],
      "metadata": {
        "colab": {
          "base_uri": "https://localhost:8080/"
        },
        "id": "XrVb_j7TttF7",
        "outputId": "91f78e58-5b63-42a1-f074-c09adfb656fd"
      },
      "execution_count": 9,
      "outputs": [
        {
          "output_type": "stream",
          "name": "stdout",
          "text": [
            "[0 0 0 0 0 1 1 0 1 0 1 1 0 1 1 1 1 1 0 1 1 1 0 1 1 0 1 1 1 1 0 1 1 1 1 0 0\n",
            " 1 1 0 1 1 1 1 1 0 1 1 1 1 1 0 1 1 1 1 1 1 0 1 1 1 0 1 0 1 0 1 1 1 0 1 1 1\n",
            " 0 1]\n"
          ]
        }
      ]
    },
    {
      "cell_type": "code",
      "source": [
        "predicted_values=[]\n",
        "for i in prediction :\n",
        "  if i==0:\n",
        "    predicted_values.append(\"No\")\n",
        "  else:\n",
        "    predicted_values.append(\"yes\")\n",
        "\n",
        "actual_values=[]\n",
        "for i in Y_test.ravel():\n",
        "  if i==0:\n",
        "    actual_values.append(\"No\")\n",
        "  else:\n",
        "    actual_values.append(\"yes\")\n",
        "print(predicted_values)\n",
        "print(actual_values)\n",
        "\n"
      ],
      "metadata": {
        "colab": {
          "base_uri": "https://localhost:8080/"
        },
        "id": "17G5LvViujqz",
        "outputId": "3e2495af-5730-45eb-aa54-289e16427aa0"
      },
      "execution_count": 10,
      "outputs": [
        {
          "output_type": "stream",
          "name": "stdout",
          "text": [
            "['No', 'No', 'No', 'No', 'No', 'yes', 'yes', 'No', 'yes', 'No', 'yes', 'yes', 'No', 'yes', 'yes', 'yes', 'yes', 'yes', 'No', 'yes', 'yes', 'yes', 'No', 'yes', 'yes', 'No', 'yes', 'yes', 'yes', 'yes', 'No', 'yes', 'yes', 'yes', 'yes', 'No', 'No', 'yes', 'yes', 'No', 'yes', 'yes', 'yes', 'yes', 'yes', 'No', 'yes', 'yes', 'yes', 'yes', 'yes', 'No', 'yes', 'yes', 'yes', 'yes', 'yes', 'yes', 'No', 'yes', 'yes', 'yes', 'No', 'yes', 'No', 'yes', 'No', 'yes', 'yes', 'yes', 'No', 'yes', 'yes', 'yes', 'No', 'yes']\n",
            "['No', 'yes', 'No', 'No', 'yes', 'No', 'No', 'No', 'No', 'No', 'yes', 'yes', 'No', 'yes', 'yes', 'yes', 'yes', 'yes', 'No', 'yes', 'yes', 'No', 'No', 'No', 'yes', 'No', 'No', 'No', 'yes', 'yes', 'No', 'No', 'yes', 'yes', 'yes', 'No', 'No', 'yes', 'No', 'No', 'yes', 'yes', 'yes', 'No', 'yes', 'yes', 'yes', 'No', 'No', 'yes', 'yes', 'yes', 'yes', 'yes', 'yes', 'No', 'yes', 'No', 'yes', 'yes', 'yes', 'yes', 'yes', 'yes', 'No', 'No', 'No', 'No', 'yes', 'yes', 'yes', 'yes', 'yes', 'No', 'No', 'yes']\n"
          ]
        }
      ]
    },
    {
      "cell_type": "code",
      "source": [
        "labels= [\"yes\",\"No\"]\n",
        "\n",
        "cm = confusion_matrix(actual_values, predicted_values)\n",
        "ax= plt.subplot()\n",
        "sns.heatmap(cm, annot=True, ax = ax)\n",
        "\n",
        "ax.set_xlabel('Predicted')\n",
        "ax.set_ylabel('Actual') \n",
        "ax.set_title('Confusion Matrix')\n",
        "ax.xaxis.set_ticklabels(labels); ax.yaxis.set_ticklabels(labels)"
      ],
      "metadata": {
        "colab": {
          "base_uri": "https://localhost:8080/",
          "height": 312
        },
        "id": "EA7bQ0RbwGUi",
        "outputId": "81fb5e85-44d4-4715-fde8-89be3c84ec37"
      },
      "execution_count": 14,
      "outputs": [
        {
          "output_type": "execute_result",
          "data": {
            "text/plain": [
              "[Text(0, 0.5, 'yes'), Text(0, 1.5, 'No')]"
            ]
          },
          "metadata": {},
          "execution_count": 14
        },
        {
          "output_type": "display_data",
          "data": {
            "text/plain": [
              "<Figure size 432x288 with 2 Axes>"
            ],
            "image/png": "[encoded data removed]"
          },
          "metadata": {
            "needs_background": "light"
          }
        }
      ]
    },
    {
      "cell_type": "code",
      "source": [
        "accuracy=16+36/16+36+7+17\n",
        "accuracy=52/76\n",
        "print(accuracy)"
      ],
      "metadata": {
        "colab": {
          "base_uri": "https://localhost:8080/"
        },
        "id": "P0bYYBghwy1K",
        "outputId": "f920812c-e2b8-4668-d723-162fe3098928"
      },
      "execution_count": 15,
      "outputs": [
        {
          "output_type": "stream",
          "name": "stdout",
          "text": [
            "0.6842105263157895\n"
          ]
        }
      ]
    }
  ]
}